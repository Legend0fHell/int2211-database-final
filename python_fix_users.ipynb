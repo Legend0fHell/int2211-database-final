{
 "cells": [
  {
   "cell_type": "code",
   "execution_count": 2,
   "metadata": {},
   "outputs": [],
   "source": [
    "\n",
    "\n",
    "with open('data/store_data.txt', 'r', encoding='utf-8') as f:\n",
    "    # The data has the following format:\n",
    "    # ('267A Đường CMT8, KP 5, P.Phước Hiệp, TX Bà Rịa, Bà Rịa - Vũng Tàu', 885, 'VT - Bà Rịa', '(08)38.102.102', 10.4954, 107.173, 102),\n",
    "    # Need to remove the last element\n",
    "\n",
    "    for line in f:\n",
    "        # remove the leading and trailing white spaces\n",
    "        line = line.strip()\n",
    "\n",
    "        # detect the second to last comma\n",
    "        pos = line[:-1].rfind(',')\n",
    "\n",
    "        # remove the last element\n",
    "        line = line[:pos] + '),'\n",
    "\n",
    "        with open('data/store_fixed.txt', 'a', encoding='utf-8') as f2:\n",
    "            f2.write(line + '\\n')\n"
   ]
  }
 ],
 "metadata": {
  "kernelspec": {
   "display_name": "Python 3",
   "language": "python",
   "name": "python3"
  },
  "language_info": {
   "codemirror_mode": {
    "name": "ipython",
    "version": 3
   },
   "file_extension": ".py",
   "mimetype": "text/x-python",
   "name": "python",
   "nbconvert_exporter": "python",
   "pygments_lexer": "ipython3",
   "version": "3.12.1"
  }
 },
 "nbformat": 4,
 "nbformat_minor": 2
}
