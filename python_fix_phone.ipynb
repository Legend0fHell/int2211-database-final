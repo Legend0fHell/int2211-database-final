{
 "cells": [
  {
   "cell_type": "code",
   "execution_count": 5,
   "metadata": {},
   "outputs": [],
   "source": [
    "# read data/phone.txt \n",
    "\n",
    "\n",
    "with open('data/phone.txt', 'r') as f:\n",
    "    # The data has the following format:\n",
    "    # (1, 1, '231597703200072', 25220000, 'New', 'Active', 157, 1, 1, '2023-07-26', 8),\n",
    "    # (1, 1, '968012177541041', 22120000, 'Used', 'Active', 180, 2, 1, '2023-12-30', 40),\n",
    "    # Need to remove the 8th element\n",
    "    # Need to change row with the 'New' status to have the price of null\n",
    "    # for example, the first row should be: (1, 1, '231597703200072', null, 'New', 'Active', 157, 1, '2023-07-26', 8),\n",
    "    # also, change '2000-01-01' to null\n",
    "    \n",
    "    # read the file line by line\n",
    "\n",
    "    for line in f:\n",
    "        # remove the leading and trailing white spaces\n",
    "        line = line.strip()\n",
    "        # split the line by comma\n",
    "        parts = line.split(',')\n",
    "        # check if the 5th element is 'New'\n",
    "        if parts[4].strip() == \"'New'\":\n",
    "            # change the 4th element to null\n",
    "            parts[3] = ' null'\n",
    "        # check if the 10th element is '2000-01-01'\n",
    "        if parts[9].strip() == \"'2000-01-01'\":\n",
    "            # change the 9th element to null\n",
    "            parts[9] = ' null'\n",
    "        \n",
    "        # remove the 8th element\n",
    "        del parts[7]\n",
    "        \n",
    "        # join the parts back together\n",
    "        line = ','.join(parts)\n",
    "        # save the line to the file data/phone_fixed.txt\n",
    "        with open('data/phone_fixed.txt', 'a') as f2:\n",
    "            f2.write(line + '\\n')\n"
   ]
  }
 ],
 "metadata": {
  "kernelspec": {
   "display_name": "Python 3",
   "language": "python",
   "name": "python3"
  },
  "language_info": {
   "codemirror_mode": {
    "name": "ipython",
    "version": 3
   },
   "file_extension": ".py",
   "mimetype": "text/x-python",
   "name": "python",
   "nbconvert_exporter": "python",
   "pygments_lexer": "ipython3",
   "version": "3.12.1"
  }
 },
 "nbformat": 4,
 "nbformat_minor": 2
}
